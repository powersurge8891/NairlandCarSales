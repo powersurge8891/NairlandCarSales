{
 "cells": [
  {
   "cell_type": "markdown",
   "metadata": {},
   "source": [
    "# Nairaland car sales data"
   ]
  },
  {
   "cell_type": "markdown",
   "metadata": {},
   "source": [
    "#### data description"
   ]
  },
  {
   "cell_type": "markdown",
   "metadata": {},
   "source": [
    "\"\"\" This dataset was gotten from nairaland.com. a popular Nigerian disucussion from. It was\n",
    "gotten from the auto session of the forum.\n",
    "\n",
    "Metadata:\n",
    "s/n--serial number\n",
    "Company--The company that produced the car\n",
    "Type-- The model of the car\n",
    "year-- The year it was produced\n",
    "view-- the total number of views the post generated as at when the data was gotten. \n",
    "comment --number of comments\n",
    "nature of comment-- 'No' means no comment. 'Negative' means derogatory or unpleasant comment\n",
    "                   'Unrelated' means comment not related to the ad 'Asking'- showing interests                       and asking further questions.\n",
    "price- amount in Naira\n",
    "Location- location of the the poster or the car\n",
    "sold-  some posters come back to indicate whether the vehicle  has been sold or not\n",
    "Negotiable- some poster explicitly state whether ther stated price was negotitable or not\n",
    "condition- foreign used, new or Nigerian used. \n",
    "mileage -'0' mileage means the poster did not  indicate the mileage\n",
    "price_trimed- same as price; just converted to float instead of object\n",
    "              \n",
    "\"\"\""
   ]
  },
  {
   "cell_type": "code",
   "execution_count": 1,
   "metadata": {},
   "outputs": [],
   "source": [
    "import pandas as pd"
   ]
  },
  {
   "cell_type": "code",
   "execution_count": 2,
   "metadata": {},
   "outputs": [
    {
     "data": {
      "text/html": [
       "<div>\n",
       "<style scoped>\n",
       "    .dataframe tbody tr th:only-of-type {\n",
       "        vertical-align: middle;\n",
       "    }\n",
       "\n",
       "    .dataframe tbody tr th {\n",
       "        vertical-align: top;\n",
       "    }\n",
       "\n",
       "    .dataframe thead th {\n",
       "        text-align: right;\n",
       "    }\n",
       "</style>\n",
       "<table border=\"1\" class=\"dataframe\">\n",
       "  <thead>\n",
       "    <tr style=\"text-align: right;\">\n",
       "      <th></th>\n",
       "      <th>s/n</th>\n",
       "      <th>Company</th>\n",
       "      <th>Type</th>\n",
       "      <th>year</th>\n",
       "      <th>view</th>\n",
       "      <th>Comment</th>\n",
       "      <th>Nature of comment</th>\n",
       "      <th>Price</th>\n",
       "      <th>Location</th>\n",
       "      <th>sold</th>\n",
       "      <th>Negotiable</th>\n",
       "      <th>Condition</th>\n",
       "      <th>mileage</th>\n",
       "      <th>Price_Trim</th>\n",
       "    </tr>\n",
       "  </thead>\n",
       "  <tbody>\n",
       "    <tr>\n",
       "      <td>139</td>\n",
       "      <td>140</td>\n",
       "      <td>Toyota</td>\n",
       "      <td>Toyota Highlander</td>\n",
       "      <td>2004</td>\n",
       "      <td>343</td>\n",
       "      <td>1</td>\n",
       "      <td>Asking</td>\n",
       "      <td>1400000</td>\n",
       "      <td>Lagos</td>\n",
       "      <td>yes</td>\n",
       "      <td>No</td>\n",
       "      <td>Naija Used</td>\n",
       "      <td>0</td>\n",
       "      <td>1400000.0</td>\n",
       "    </tr>\n",
       "    <tr>\n",
       "      <td>140</td>\n",
       "      <td>141</td>\n",
       "      <td>Mercedes</td>\n",
       "      <td>mercedes Benz   E300</td>\n",
       "      <td>2017</td>\n",
       "      <td>490</td>\n",
       "      <td>0</td>\n",
       "      <td>No</td>\n",
       "      <td>17500000</td>\n",
       "      <td>Lagos</td>\n",
       "      <td>yes</td>\n",
       "      <td>Yes</td>\n",
       "      <td>New</td>\n",
       "      <td>0</td>\n",
       "      <td>17500000.0</td>\n",
       "    </tr>\n",
       "    <tr>\n",
       "      <td>141</td>\n",
       "      <td>142</td>\n",
       "      <td>Toyota</td>\n",
       "      <td>Toyota Corolla</td>\n",
       "      <td>2007</td>\n",
       "      <td>598</td>\n",
       "      <td>0</td>\n",
       "      <td>No</td>\n",
       "      <td>2000000</td>\n",
       "      <td>Unkown</td>\n",
       "      <td>no</td>\n",
       "      <td>No</td>\n",
       "      <td>Foreign Used</td>\n",
       "      <td>120000</td>\n",
       "      <td>2000000.0</td>\n",
       "    </tr>\n",
       "    <tr>\n",
       "      <td>142</td>\n",
       "      <td>143</td>\n",
       "      <td>Toyota</td>\n",
       "      <td>Toyota Camry</td>\n",
       "      <td>2008</td>\n",
       "      <td>192</td>\n",
       "      <td>0</td>\n",
       "      <td>No</td>\n",
       "      <td>1250000</td>\n",
       "      <td>Abuja</td>\n",
       "      <td>no</td>\n",
       "      <td>No</td>\n",
       "      <td>Naija Used</td>\n",
       "      <td>0</td>\n",
       "      <td>1250000.0</td>\n",
       "    </tr>\n",
       "    <tr>\n",
       "      <td>143</td>\n",
       "      <td>144</td>\n",
       "      <td>Toyota</td>\n",
       "      <td>Toyota  Camry</td>\n",
       "      <td>2008</td>\n",
       "      <td>386</td>\n",
       "      <td>0</td>\n",
       "      <td>No</td>\n",
       "      <td>2400000</td>\n",
       "      <td>Unkown</td>\n",
       "      <td>no</td>\n",
       "      <td>No</td>\n",
       "      <td>Foreign Used</td>\n",
       "      <td>40000</td>\n",
       "      <td>2400000.0</td>\n",
       "    </tr>\n",
       "  </tbody>\n",
       "</table>\n",
       "</div>"
      ],
      "text/plain": [
       "     s/n   Company                  Type  year  view  Comment  \\\n",
       "139  140    Toyota     Toyota Highlander  2004   343        1   \n",
       "140  141  Mercedes  mercedes Benz   E300  2017   490        0   \n",
       "141  142    Toyota        Toyota Corolla  2007   598        0   \n",
       "142  143    Toyota          Toyota Camry  2008   192        0   \n",
       "143  144    Toyota         Toyota  Camry  2008   386        0   \n",
       "\n",
       "    Nature of comment     Price Location sold Negotiable     Condition  \\\n",
       "139            Asking   1400000    Lagos  yes         No    Naija Used   \n",
       "140                No  17500000    Lagos  yes        Yes           New   \n",
       "141                No   2000000   Unkown   no         No  Foreign Used   \n",
       "142                No   1250000    Abuja   no         No    Naija Used   \n",
       "143                No   2400000   Unkown   no         No  Foreign Used   \n",
       "\n",
       "     mileage  Price_Trim  \n",
       "139        0   1400000.0  \n",
       "140        0  17500000.0  \n",
       "141   120000   2000000.0  \n",
       "142        0   1250000.0  \n",
       "143    40000   2400000.0  "
      ]
     },
     "execution_count": 2,
     "metadata": {},
     "output_type": "execute_result"
    }
   ],
   "source": [
    "nl=pd. read_excel(r'C:\\Users\\pc\\Desktop\\MY FILES\\dataset\\NAIRALAND CAR SALES.xlsx')\n",
    "\n",
    "nl.tail()"
   ]
  },
  {
   "cell_type": "markdown",
   "metadata": {},
   "source": [
    "#### cleaning the data"
   ]
  },
  {
   "cell_type": "code",
   "execution_count": 3,
   "metadata": {},
   "outputs": [
    {
     "data": {
      "text/plain": [
       "s/n                    0\n",
       "Company                0\n",
       "Type                   0\n",
       "year                   0\n",
       "view                   0\n",
       "Comment                0\n",
       "Nature of comment      0\n",
       "Price                  0\n",
       "Location               0\n",
       "sold                   0\n",
       "Negotiable             0\n",
       "Condition              0\n",
       "mileage                0\n",
       "Price_Trim           114\n",
       "dtype: int64"
      ]
     },
     "execution_count": 3,
     "metadata": {},
     "output_type": "execute_result"
    }
   ],
   "source": [
    "nl.isna().sum()"
   ]
  },
  {
   "cell_type": "code",
   "execution_count": 4,
   "metadata": {},
   "outputs": [],
   "source": [
    "nl.dropna(inplace=True)"
   ]
  },
  {
   "cell_type": "code",
   "execution_count": 5,
   "metadata": {},
   "outputs": [
    {
     "name": "stdout",
     "output_type": "stream",
     "text": [
      "<class 'pandas.core.frame.DataFrame'>\n",
      "Int64Index: 30 entries, 114 to 143\n",
      "Data columns (total 14 columns):\n",
      "s/n                  30 non-null int64\n",
      "Company              30 non-null object\n",
      "Type                 30 non-null object\n",
      "year                 30 non-null int64\n",
      "view                 30 non-null int64\n",
      "Comment              30 non-null int64\n",
      "Nature of comment    30 non-null object\n",
      "Price                30 non-null object\n",
      "Location             30 non-null object\n",
      "sold                 30 non-null object\n",
      "Negotiable           30 non-null object\n",
      "Condition            30 non-null object\n",
      "mileage              30 non-null int64\n",
      "Price_Trim           30 non-null float64\n",
      "dtypes: float64(1), int64(5), object(8)\n",
      "memory usage: 3.5+ KB\n"
     ]
    }
   ],
   "source": [
    "    nl.info()"
   ]
  },
  {
   "cell_type": "code",
   "execution_count": 6,
   "metadata": {},
   "outputs": [
    {
     "data": {
      "text/html": [
       "<div>\n",
       "<style scoped>\n",
       "    .dataframe tbody tr th:only-of-type {\n",
       "        vertical-align: middle;\n",
       "    }\n",
       "\n",
       "    .dataframe tbody tr th {\n",
       "        vertical-align: top;\n",
       "    }\n",
       "\n",
       "    .dataframe thead th {\n",
       "        text-align: right;\n",
       "    }\n",
       "</style>\n",
       "<table border=\"1\" class=\"dataframe\">\n",
       "  <thead>\n",
       "    <tr style=\"text-align: right;\">\n",
       "      <th></th>\n",
       "      <th>s/n</th>\n",
       "      <th>Company</th>\n",
       "      <th>Type</th>\n",
       "      <th>year</th>\n",
       "      <th>view</th>\n",
       "      <th>Comment</th>\n",
       "      <th>Nature of comment</th>\n",
       "      <th>Price</th>\n",
       "      <th>Location</th>\n",
       "      <th>sold</th>\n",
       "      <th>Negotiable</th>\n",
       "      <th>Condition</th>\n",
       "      <th>mileage</th>\n",
       "      <th>Price_Trim</th>\n",
       "    </tr>\n",
       "  </thead>\n",
       "  <tbody>\n",
       "    <tr>\n",
       "      <td>139</td>\n",
       "      <td>140</td>\n",
       "      <td>Toyota</td>\n",
       "      <td>Toyota Highlander</td>\n",
       "      <td>2004</td>\n",
       "      <td>343</td>\n",
       "      <td>1</td>\n",
       "      <td>Asking</td>\n",
       "      <td>1400000</td>\n",
       "      <td>Lagos</td>\n",
       "      <td>yes</td>\n",
       "      <td>No</td>\n",
       "      <td>Naija Used</td>\n",
       "      <td>0</td>\n",
       "      <td>1400000.0</td>\n",
       "    </tr>\n",
       "    <tr>\n",
       "      <td>140</td>\n",
       "      <td>141</td>\n",
       "      <td>Mercedes</td>\n",
       "      <td>mercedes Benz   E300</td>\n",
       "      <td>2017</td>\n",
       "      <td>490</td>\n",
       "      <td>0</td>\n",
       "      <td>No</td>\n",
       "      <td>17500000</td>\n",
       "      <td>Lagos</td>\n",
       "      <td>yes</td>\n",
       "      <td>Yes</td>\n",
       "      <td>New</td>\n",
       "      <td>0</td>\n",
       "      <td>17500000.0</td>\n",
       "    </tr>\n",
       "    <tr>\n",
       "      <td>141</td>\n",
       "      <td>142</td>\n",
       "      <td>Toyota</td>\n",
       "      <td>Toyota Corolla</td>\n",
       "      <td>2007</td>\n",
       "      <td>598</td>\n",
       "      <td>0</td>\n",
       "      <td>No</td>\n",
       "      <td>2000000</td>\n",
       "      <td>Unkown</td>\n",
       "      <td>no</td>\n",
       "      <td>No</td>\n",
       "      <td>Foreign Used</td>\n",
       "      <td>120000</td>\n",
       "      <td>2000000.0</td>\n",
       "    </tr>\n",
       "    <tr>\n",
       "      <td>142</td>\n",
       "      <td>143</td>\n",
       "      <td>Toyota</td>\n",
       "      <td>Toyota Camry</td>\n",
       "      <td>2008</td>\n",
       "      <td>192</td>\n",
       "      <td>0</td>\n",
       "      <td>No</td>\n",
       "      <td>1250000</td>\n",
       "      <td>Abuja</td>\n",
       "      <td>no</td>\n",
       "      <td>No</td>\n",
       "      <td>Naija Used</td>\n",
       "      <td>0</td>\n",
       "      <td>1250000.0</td>\n",
       "    </tr>\n",
       "    <tr>\n",
       "      <td>143</td>\n",
       "      <td>144</td>\n",
       "      <td>Toyota</td>\n",
       "      <td>Toyota  Camry</td>\n",
       "      <td>2008</td>\n",
       "      <td>386</td>\n",
       "      <td>0</td>\n",
       "      <td>No</td>\n",
       "      <td>2400000</td>\n",
       "      <td>Unkown</td>\n",
       "      <td>no</td>\n",
       "      <td>No</td>\n",
       "      <td>Foreign Used</td>\n",
       "      <td>40000</td>\n",
       "      <td>2400000.0</td>\n",
       "    </tr>\n",
       "  </tbody>\n",
       "</table>\n",
       "</div>"
      ],
      "text/plain": [
       "     s/n   Company                  Type  year  view  Comment  \\\n",
       "139  140    Toyota     Toyota Highlander  2004   343        1   \n",
       "140  141  Mercedes  mercedes Benz   E300  2017   490        0   \n",
       "141  142    Toyota        Toyota Corolla  2007   598        0   \n",
       "142  143    Toyota          Toyota Camry  2008   192        0   \n",
       "143  144    Toyota         Toyota  Camry  2008   386        0   \n",
       "\n",
       "    Nature of comment     Price Location sold Negotiable     Condition  \\\n",
       "139            Asking   1400000    Lagos  yes         No    Naija Used   \n",
       "140                No  17500000    Lagos  yes        Yes           New   \n",
       "141                No   2000000   Unkown   no         No  Foreign Used   \n",
       "142                No   1250000    Abuja   no         No    Naija Used   \n",
       "143                No   2400000   Unkown   no         No  Foreign Used   \n",
       "\n",
       "     mileage  Price_Trim  \n",
       "139        0   1400000.0  \n",
       "140        0  17500000.0  \n",
       "141   120000   2000000.0  \n",
       "142        0   1250000.0  \n",
       "143    40000   2400000.0  "
      ]
     },
     "execution_count": 6,
     "metadata": {},
     "output_type": "execute_result"
    }
   ],
   "source": [
    "nl.tail()"
   ]
  },
  {
   "cell_type": "markdown",
   "metadata": {},
   "source": [
    "#### Q1: from the data, what are the factors that determine sales?"
   ]
  },
  {
   "cell_type": "code",
   "execution_count": 7,
   "metadata": {},
   "outputs": [],
   "source": [
    "import pandas as pd\n",
    "import seaborn as sns"
   ]
  },
  {
   "cell_type": "code",
   "execution_count": 8,
   "metadata": {},
   "outputs": [
    {
     "data": {
      "text/plain": [
       "<matplotlib.axes._subplots.AxesSubplot at 0x1c5b0591d08>"
      ]
     },
     "execution_count": 8,
     "metadata": {},
     "output_type": "execute_result"
    },
    {
     "data": {
      "image/png": "[encoded data removed]",
      "text/plain": [
       "<Figure size 432x288 with 1 Axes>"
      ]
     },
     "metadata": {
      "needs_background": "light"
     },
     "output_type": "display_data"
    }
   ],
   "source": [
    "sns.countplot(nl.sold)"
   ]
  },
  {
   "cell_type": "markdown",
   "metadata": {},
   "source": [
    "The above graph shows the number of those who came back to indicate that their vehicle has been sold. Though this is not a true indication of sales, as most people whose cars has been sold might not come to indicate. However, based on the data, only about 15%  of the posters indicate that they have sold their cars. "
   ]
  },
  {
   "cell_type": "code",
   "execution_count": 9,
   "metadata": {},
   "outputs": [
    {
     "data": {
      "text/plain": [
       "Index(['s/n', 'Company', 'Type', 'year', 'view', 'Comment',\n",
       "       'Nature of comment', 'Price', 'Location', 'sold', 'Negotiable',\n",
       "       'Condition', 'mileage', 'Price_Trim'],\n",
       "      dtype='object')"
      ]
     },
     "execution_count": 9,
     "metadata": {},
     "output_type": "execute_result"
    }
   ],
   "source": [
    "nl.columns"
   ]
  },
  {
   "cell_type": "markdown",
   "metadata": {},
   "source": [
    "from the dataset, no factor, has significant effect on sales. "
   ]
  },
  {
   "cell_type": "markdown",
   "metadata": {},
   "source": [
    "#### Q2:  what is the average price of each car brand?"
   ]
  },
  {
   "cell_type": "code",
   "execution_count": 10,
   "metadata": {},
   "outputs": [
    {
     "data": {
      "text/html": [
       "<div>\n",
       "<style scoped>\n",
       "    .dataframe tbody tr th:only-of-type {\n",
       "        vertical-align: middle;\n",
       "    }\n",
       "\n",
       "    .dataframe tbody tr th {\n",
       "        vertical-align: top;\n",
       "    }\n",
       "\n",
       "    .dataframe thead th {\n",
       "        text-align: right;\n",
       "    }\n",
       "</style>\n",
       "<table border=\"1\" class=\"dataframe\">\n",
       "  <thead>\n",
       "    <tr style=\"text-align: right;\">\n",
       "      <th></th>\n",
       "      <th>Company</th>\n",
       "      <th>Price_Trim</th>\n",
       "    </tr>\n",
       "  </thead>\n",
       "  <tbody>\n",
       "    <tr>\n",
       "      <td>114</td>\n",
       "      <td>Hyundai</td>\n",
       "      <td>950000.0</td>\n",
       "    </tr>\n",
       "    <tr>\n",
       "      <td>115</td>\n",
       "      <td>Honda</td>\n",
       "      <td>1550000.0</td>\n",
       "    </tr>\n",
       "    <tr>\n",
       "      <td>116</td>\n",
       "      <td>Toyota</td>\n",
       "      <td>1750000.0</td>\n",
       "    </tr>\n",
       "    <tr>\n",
       "      <td>117</td>\n",
       "      <td>Lexus</td>\n",
       "      <td>3800000.0</td>\n",
       "    </tr>\n",
       "  </tbody>\n",
       "</table>\n",
       "</div>"
      ],
      "text/plain": [
       "      Company  Price_Trim\n",
       "114  Hyundai     950000.0\n",
       "115    Honda    1550000.0\n",
       "116    Toyota   1750000.0\n",
       "117    Lexus    3800000.0"
      ]
     },
     "execution_count": 10,
     "metadata": {},
     "output_type": "execute_result"
    }
   ],
   "source": [
    "nlc= nl.iloc[:, [1, 13]]\n",
    "nlc.head(4)"
   ]
  },
  {
   "cell_type": "code",
   "execution_count": 19,
   "metadata": {},
   "outputs": [
    {
     "data": {
      "text/html": [
       "<div>\n",
       "<style scoped>\n",
       "    .dataframe tbody tr th:only-of-type {\n",
       "        vertical-align: middle;\n",
       "    }\n",
       "\n",
       "    .dataframe tbody tr th {\n",
       "        vertical-align: top;\n",
       "    }\n",
       "\n",
       "    .dataframe thead th {\n",
       "        text-align: right;\n",
       "    }\n",
       "</style>\n",
       "<table border=\"1\" class=\"dataframe\">\n",
       "  <thead>\n",
       "    <tr style=\"text-align: right;\">\n",
       "      <th></th>\n",
       "      <th>Price_Trim</th>\n",
       "    </tr>\n",
       "    <tr>\n",
       "      <th>Company</th>\n",
       "      <th></th>\n",
       "    </tr>\n",
       "  </thead>\n",
       "  <tbody>\n",
       "    <tr>\n",
       "      <td>Honda</td>\n",
       "      <td>3.125000e+06</td>\n",
       "    </tr>\n",
       "    <tr>\n",
       "      <td>Hyundai</td>\n",
       "      <td>9.500000e+05</td>\n",
       "    </tr>\n",
       "    <tr>\n",
       "      <td>Lexus</td>\n",
       "      <td>5.196000e+06</td>\n",
       "    </tr>\n",
       "    <tr>\n",
       "      <td>Mercedes</td>\n",
       "      <td>6.525000e+07</td>\n",
       "    </tr>\n",
       "    <tr>\n",
       "      <td>Nissan</td>\n",
       "      <td>2.900000e+06</td>\n",
       "    </tr>\n",
       "    <tr>\n",
       "      <td>Toyota</td>\n",
       "      <td>1.658333e+06</td>\n",
       "    </tr>\n",
       "    <tr>\n",
       "      <td>Volkswagen</td>\n",
       "      <td>1.400000e+06</td>\n",
       "    </tr>\n",
       "  </tbody>\n",
       "</table>\n",
       "</div>"
      ],
      "text/plain": [
       "              Price_Trim\n",
       "Company                 \n",
       "Honda       3.125000e+06\n",
       "Hyundai     9.500000e+05\n",
       "Lexus       5.196000e+06\n",
       "Mercedes    6.525000e+07\n",
       "Nissan      2.900000e+06\n",
       "Toyota      1.658333e+06\n",
       "Volkswagen  1.400000e+06"
      ]
     },
     "execution_count": 19,
     "metadata": {},
     "output_type": "execute_result"
    }
   ],
   "source": [
    "nlc.groupby(['Company']).mean()"
   ]
  },
  {
   "cell_type": "markdown",
   "metadata": {},
   "source": [
    "The table above shows the average price of each car brand. The most expensive car brand was Mercedes (N65.3m). While the cheapest brand was Hyundai (N950,000)"
   ]
  },
  {
   "cell_type": "markdown",
   "metadata": {},
   "source": [
    "#### Q3: what are the factors that determine the price of a vehicle?"
   ]
  },
  {
   "cell_type": "code",
   "execution_count": 12,
   "metadata": {},
   "outputs": [
    {
     "data": {
      "text/html": [
       "<div>\n",
       "<style scoped>\n",
       "    .dataframe tbody tr th:only-of-type {\n",
       "        vertical-align: middle;\n",
       "    }\n",
       "\n",
       "    .dataframe tbody tr th {\n",
       "        vertical-align: top;\n",
       "    }\n",
       "\n",
       "    .dataframe thead th {\n",
       "        text-align: right;\n",
       "    }\n",
       "</style>\n",
       "<table border=\"1\" class=\"dataframe\">\n",
       "  <thead>\n",
       "    <tr style=\"text-align: right;\">\n",
       "      <th></th>\n",
       "      <th>year</th>\n",
       "      <th>Price_Trim</th>\n",
       "    </tr>\n",
       "  </thead>\n",
       "  <tbody>\n",
       "    <tr>\n",
       "      <td>129</td>\n",
       "      <td>2005</td>\n",
       "      <td>1400000.0</td>\n",
       "    </tr>\n",
       "    <tr>\n",
       "      <td>119</td>\n",
       "      <td>2004</td>\n",
       "      <td>1320000.0</td>\n",
       "    </tr>\n",
       "    <tr>\n",
       "      <td>118</td>\n",
       "      <td>2016</td>\n",
       "      <td>17000000.0</td>\n",
       "    </tr>\n",
       "    <tr>\n",
       "      <td>137</td>\n",
       "      <td>2003</td>\n",
       "      <td>850000.0</td>\n",
       "    </tr>\n",
       "    <tr>\n",
       "      <td>133</td>\n",
       "      <td>2013</td>\n",
       "      <td>3000000.0</td>\n",
       "    </tr>\n",
       "  </tbody>\n",
       "</table>\n",
       "</div>"
      ],
      "text/plain": [
       "     year  Price_Trim\n",
       "129  2005   1400000.0\n",
       "119  2004   1320000.0\n",
       "118  2016  17000000.0\n",
       "137  2003    850000.0\n",
       "133  2013   3000000.0"
      ]
     },
     "execution_count": 12,
     "metadata": {},
     "output_type": "execute_result"
    }
   ],
   "source": [
    "nly= nl.iloc[:, [3,13]]\n",
    "nly.sample(5)"
   ]
  },
  {
   "cell_type": "code",
   "execution_count": 13,
   "metadata": {},
   "outputs": [
    {
     "data": {
      "text/html": [
       "<div>\n",
       "<style scoped>\n",
       "    .dataframe tbody tr th:only-of-type {\n",
       "        vertical-align: middle;\n",
       "    }\n",
       "\n",
       "    .dataframe tbody tr th {\n",
       "        vertical-align: top;\n",
       "    }\n",
       "\n",
       "    .dataframe thead th {\n",
       "        text-align: right;\n",
       "    }\n",
       "</style>\n",
       "<table border=\"1\" class=\"dataframe\">\n",
       "  <thead>\n",
       "    <tr style=\"text-align: right;\">\n",
       "      <th></th>\n",
       "      <th>Price_Trim</th>\n",
       "    </tr>\n",
       "    <tr>\n",
       "      <th>year</th>\n",
       "      <th></th>\n",
       "    </tr>\n",
       "  </thead>\n",
       "  <tbody>\n",
       "    <tr>\n",
       "      <td>0</td>\n",
       "      <td>3.800000e+06</td>\n",
       "    </tr>\n",
       "    <tr>\n",
       "      <td>2001</td>\n",
       "      <td>1.830000e+06</td>\n",
       "    </tr>\n",
       "    <tr>\n",
       "      <td>2002</td>\n",
       "      <td>1.215000e+06</td>\n",
       "    </tr>\n",
       "    <tr>\n",
       "      <td>2003</td>\n",
       "      <td>8.500000e+05</td>\n",
       "    </tr>\n",
       "    <tr>\n",
       "      <td>2004</td>\n",
       "      <td>1.530000e+06</td>\n",
       "    </tr>\n",
       "    <tr>\n",
       "      <td>2005</td>\n",
       "      <td>1.133333e+06</td>\n",
       "    </tr>\n",
       "    <tr>\n",
       "      <td>2006</td>\n",
       "      <td>1.450000e+06</td>\n",
       "    </tr>\n",
       "    <tr>\n",
       "      <td>2007</td>\n",
       "      <td>1.700000e+06</td>\n",
       "    </tr>\n",
       "    <tr>\n",
       "      <td>2008</td>\n",
       "      <td>2.390000e+06</td>\n",
       "    </tr>\n",
       "    <tr>\n",
       "      <td>2009</td>\n",
       "      <td>2.450000e+06</td>\n",
       "    </tr>\n",
       "    <tr>\n",
       "      <td>2010</td>\n",
       "      <td>1.550000e+06</td>\n",
       "    </tr>\n",
       "    <tr>\n",
       "      <td>2011</td>\n",
       "      <td>9.500000e+05</td>\n",
       "    </tr>\n",
       "    <tr>\n",
       "      <td>2013</td>\n",
       "      <td>3.000000e+06</td>\n",
       "    </tr>\n",
       "    <tr>\n",
       "      <td>2014</td>\n",
       "      <td>4.700000e+06</td>\n",
       "    </tr>\n",
       "    <tr>\n",
       "      <td>2016</td>\n",
       "      <td>1.700000e+07</td>\n",
       "    </tr>\n",
       "    <tr>\n",
       "      <td>2017</td>\n",
       "      <td>1.750000e+07</td>\n",
       "    </tr>\n",
       "    <tr>\n",
       "      <td>2019</td>\n",
       "      <td>5.650000e+07</td>\n",
       "    </tr>\n",
       "  </tbody>\n",
       "</table>\n",
       "</div>"
      ],
      "text/plain": [
       "        Price_Trim\n",
       "year              \n",
       "0     3.800000e+06\n",
       "2001  1.830000e+06\n",
       "2002  1.215000e+06\n",
       "2003  8.500000e+05\n",
       "2004  1.530000e+06\n",
       "2005  1.133333e+06\n",
       "2006  1.450000e+06\n",
       "2007  1.700000e+06\n",
       "2008  2.390000e+06\n",
       "2009  2.450000e+06\n",
       "2010  1.550000e+06\n",
       "2011  9.500000e+05\n",
       "2013  3.000000e+06\n",
       "2014  4.700000e+06\n",
       "2016  1.700000e+07\n",
       "2017  1.750000e+07\n",
       "2019  5.650000e+07"
      ]
     },
     "execution_count": 13,
     "metadata": {},
     "output_type": "execute_result"
    }
   ],
   "source": [
    "nly.groupby('year').mean()"
   ]
  },
  {
   "cell_type": "markdown",
   "metadata": {},
   "source": [
    "one of the major factors that determines the price of a vehicle is its age. The older a vehicle, the lesser its price. "
   ]
  },
  {
   "cell_type": "markdown",
   "metadata": {},
   "source": [
    "#### Q4: how many of each of the car brands were sold?"
   ]
  },
  {
   "cell_type": "code",
   "execution_count": 14,
   "metadata": {},
   "outputs": [
    {
     "data": {
      "text/html": [
       "<div>\n",
       "<style scoped>\n",
       "    .dataframe tbody tr th:only-of-type {\n",
       "        vertical-align: middle;\n",
       "    }\n",
       "\n",
       "    .dataframe tbody tr th {\n",
       "        vertical-align: top;\n",
       "    }\n",
       "\n",
       "    .dataframe thead th {\n",
       "        text-align: right;\n",
       "    }\n",
       "</style>\n",
       "<table border=\"1\" class=\"dataframe\">\n",
       "  <thead>\n",
       "    <tr style=\"text-align: right;\">\n",
       "      <th>sold</th>\n",
       "      <th>no</th>\n",
       "      <th>yes</th>\n",
       "    </tr>\n",
       "    <tr>\n",
       "      <th>Company</th>\n",
       "      <th></th>\n",
       "      <th></th>\n",
       "    </tr>\n",
       "  </thead>\n",
       "  <tbody>\n",
       "    <tr>\n",
       "      <td>Honda</td>\n",
       "      <td>2</td>\n",
       "      <td>0</td>\n",
       "    </tr>\n",
       "    <tr>\n",
       "      <td>Hyundai</td>\n",
       "      <td>0</td>\n",
       "      <td>1</td>\n",
       "    </tr>\n",
       "    <tr>\n",
       "      <td>Lexus</td>\n",
       "      <td>5</td>\n",
       "      <td>0</td>\n",
       "    </tr>\n",
       "    <tr>\n",
       "      <td>Mercedes</td>\n",
       "      <td>1</td>\n",
       "      <td>1</td>\n",
       "    </tr>\n",
       "    <tr>\n",
       "      <td>Nissan</td>\n",
       "      <td>1</td>\n",
       "      <td>0</td>\n",
       "    </tr>\n",
       "    <tr>\n",
       "      <td>Toyota</td>\n",
       "      <td>15</td>\n",
       "      <td>3</td>\n",
       "    </tr>\n",
       "    <tr>\n",
       "      <td>Volkswagen</td>\n",
       "      <td>1</td>\n",
       "      <td>0</td>\n",
       "    </tr>\n",
       "  </tbody>\n",
       "</table>\n",
       "</div>"
      ],
      "text/plain": [
       "sold        no  yes\n",
       "Company            \n",
       "Honda        2    0\n",
       "Hyundai      0    1\n",
       "Lexus        5    0\n",
       "Mercedes     1    1\n",
       "Nissan       1    0\n",
       "Toyota      15    3\n",
       "Volkswagen   1    0"
      ]
     },
     "execution_count": 14,
     "metadata": {},
     "output_type": "execute_result"
    }
   ],
   "source": [
    "pd.crosstab(nl.Company, nl.sold)"
   ]
  },
  {
   "cell_type": "markdown",
   "metadata": {},
   "source": [
    "Only Toyota, Mercedes and Hyundai made sales"
   ]
  },
  {
   "cell_type": "markdown",
   "metadata": {},
   "source": [
    "#### Q5: if you were to advise a dealer, what car type, based on condition of use, would advise him to buy?"
   ]
  },
  {
   "cell_type": "code",
   "execution_count": 15,
   "metadata": {},
   "outputs": [
    {
     "data": {
      "text/html": [
       "<div>\n",
       "<style scoped>\n",
       "    .dataframe tbody tr th:only-of-type {\n",
       "        vertical-align: middle;\n",
       "    }\n",
       "\n",
       "    .dataframe tbody tr th {\n",
       "        vertical-align: top;\n",
       "    }\n",
       "\n",
       "    .dataframe thead th {\n",
       "        text-align: right;\n",
       "    }\n",
       "</style>\n",
       "<table border=\"1\" class=\"dataframe\">\n",
       "  <thead>\n",
       "    <tr style=\"text-align: right;\">\n",
       "      <th>sold</th>\n",
       "      <th>no</th>\n",
       "      <th>yes</th>\n",
       "    </tr>\n",
       "    <tr>\n",
       "      <th>Condition</th>\n",
       "      <th></th>\n",
       "      <th></th>\n",
       "    </tr>\n",
       "  </thead>\n",
       "  <tbody>\n",
       "    <tr>\n",
       "      <td>Foreign Used</td>\n",
       "      <td>15</td>\n",
       "      <td>2</td>\n",
       "    </tr>\n",
       "    <tr>\n",
       "      <td>Naija Used</td>\n",
       "      <td>7</td>\n",
       "      <td>2</td>\n",
       "    </tr>\n",
       "    <tr>\n",
       "      <td>New</td>\n",
       "      <td>3</td>\n",
       "      <td>1</td>\n",
       "    </tr>\n",
       "  </tbody>\n",
       "</table>\n",
       "</div>"
      ],
      "text/plain": [
       "sold          no  yes\n",
       "Condition            \n",
       "Foreign Used  15    2\n",
       "Naija Used     7    2\n",
       "New            3    1"
      ]
     },
     "execution_count": 15,
     "metadata": {},
     "output_type": "execute_result"
    }
   ],
   "source": [
    "pd.crosstab(nl.Condition, nl.sold)"
   ]
  },
  {
   "cell_type": "markdown",
   "metadata": {},
   "source": [
    "Approximately 18% of the total foreign used cars were sold. 22% of The Nigerian used cars were sold. and 25 of the new cars that were advised were sold. Based on this data, I would advise him to buy New cars. "
   ]
  },
  {
   "cell_type": "code",
   "execution_count": null,
   "metadata": {},
   "outputs": [],
   "source": []
  }
 ],
 "metadata": {
  "kernelspec": {
   "display_name": "Python 3",
   "language": "python",
   "name": "python3"
  },
  "language_info": {
   "codemirror_mode": {
    "name": "ipython",
    "version": 3
   },
   "file_extension": ".py",
   "mimetype": "text/x-python",
   "name": "python",
   "nbconvert_exporter": "python",
   "pygments_lexer": "ipython3",
   "version": "3.7.4"
  }
 },
 "nbformat": 4,
 "nbformat_minor": 2
}
